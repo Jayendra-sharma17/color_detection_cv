{
 "cells": [
  {
   "cell_type": "code",
   "execution_count": 1,
   "metadata": {},
   "outputs": [
    {
     "data": {
      "text/plain": [
       "10"
      ]
     },
     "execution_count": 1,
     "metadata": {},
     "output_type": "execute_result"
    }
   ],
   "source": [
    "5+5"
   ]
  },
  {
   "cell_type": "code",
   "execution_count": 4,
   "metadata": {},
   "outputs": [],
   "source": [
    "import cv2\n",
    "import skimage as ski\n",
    "\n",
    "vid=cv2.VideoCapture(0)\n",
    "\n",
    "while True:\n",
    "    ack ,img =vid.read()\n",
    "    if ack:\n",
    "        th,red_bw=cv2.threshold(cv2.subtract(\n",
    "            img[:,:,-1],cv2.cvtColor(img,cv2.COLOR_BGR2GRAY)\n",
    "        ),80,255,cv2.THRESH_BINARY)\n",
    "\n",
    "        strel=cv2.getStructuringElement(cv2.MORPH_ELLIPSE,(10,10))\n",
    "        red_bw=cv2.morphologyEx(red_bw,cv2.MORPH_CLOSE,strel,1)\n",
    "\n",
    "        red_bw=ski.morphology.remove_small_objects(red_bw.astype(bool) , 3000) .astype('uint8')*255\n",
    "\n",
    "        red_bw=ski.morphology.remove_small_holes(red_bw.astype(bool) , 3000) .astype('uint8')*255\n",
    "\n",
    "  \n",
    "        rps=ski.measure.regionprops(ski.measure.label(red_bw.astype('uint8')))\n",
    "\n",
    "        count=len(rps)\n",
    "\n",
    "        img_copy=img.copy()\n",
    "\n",
    "        cv2.putText(img_copy,str(count),(30,30),cv2.FONT_HERSHEY_SIMPLEX,5,(255,0,0),5)\n",
    "\n",
    "        for rp in rps:\n",
    "            y1,x1,y2,x2=rp.bbox\n",
    "\n",
    "            cv2.rectangle(img_copy,(x1,y1),(x2,y2),(0,0,255),5)\n",
    "\n",
    "\n",
    "        cv2.imshow('preview',img_copy)\n",
    "        key=cv2.waitKey(1)\n",
    "        if key==ord('x'):\n",
    "            break\n",
    "\n",
    "cv2.destroyAllWindows();\n",
    "cv2.waitKey(1)\n",
    "vid.release()\n",
    "\n"
   ]
  },
  {
   "cell_type": "code",
   "execution_count": 6,
   "metadata": {},
   "outputs": [
    {
     "name": "stdout",
     "output_type": "stream",
     "text": [
      " * Serving Flask app '__main__' (lazy loading)\n",
      " * Environment: production\n",
      "   WARNING: This is a development server. Do not use it in a production deployment.\n",
      "   Use a production WSGI server instead.\n",
      " * Debug mode: off\n"
     ]
    },
    {
     "name": "stderr",
     "output_type": "stream",
     "text": [
      " * Running on http://127.0.0.1:5000/ (Press CTRL+C to quit)\n",
      "[2023-08-12 14:12:45,055] ERROR in app: Exception on / [GET]\n",
      "Traceback (most recent call last):\n",
      "  File \"c:\\Users\\ishuk\\AppData\\Local\\Programs\\Python\\Python39\\lib\\site-packages\\flask\\app.py\", line 2070, in wsgi_app\n",
      "    response = self.full_dispatch_request()\n",
      "  File \"c:\\Users\\ishuk\\AppData\\Local\\Programs\\Python\\Python39\\lib\\site-packages\\flask\\app.py\", line 1515, in full_dispatch_request\n",
      "    rv = self.handle_user_exception(e)\n",
      "  File \"c:\\Users\\ishuk\\AppData\\Local\\Programs\\Python\\Python39\\lib\\site-packages\\flask\\app.py\", line 1513, in full_dispatch_request\n",
      "    rv = self.dispatch_request()\n",
      "  File \"c:\\Users\\ishuk\\AppData\\Local\\Programs\\Python\\Python39\\lib\\site-packages\\flask\\app.py\", line 1499, in dispatch_request\n",
      "    return self.ensure_sync(self.view_functions[rule.endpoint])(**req.view_args)\n",
      "  File \"C:\\Users\\ishuk\\AppData\\Local\\Temp\\ipykernel_20784\\1396139788.py\", line 13, in home\n",
      "    return render_template(\"index.html\")\n",
      "  File \"c:\\Users\\ishuk\\AppData\\Local\\Programs\\Python\\Python39\\lib\\site-packages\\flask\\templating.py\", line 148, in render_template\n",
      "    ctx.app.jinja_env.get_or_select_template(template_name_or_list),\n",
      "  File \"c:\\Users\\ishuk\\AppData\\Local\\Programs\\Python\\Python39\\lib\\site-packages\\jinja2\\environment.py\", line 1068, in get_or_select_template\n",
      "    return self.get_template(template_name_or_list, parent, globals)\n",
      "  File \"c:\\Users\\ishuk\\AppData\\Local\\Programs\\Python\\Python39\\lib\\site-packages\\jinja2\\environment.py\", line 997, in get_template\n",
      "    return self._load_template(name, globals)\n",
      "  File \"c:\\Users\\ishuk\\AppData\\Local\\Programs\\Python\\Python39\\lib\\site-packages\\jinja2\\environment.py\", line 958, in _load_template\n",
      "    template = self.loader.load(self, name, self.make_globals(globals))\n",
      "  File \"c:\\Users\\ishuk\\AppData\\Local\\Programs\\Python\\Python39\\lib\\site-packages\\jinja2\\loaders.py\", line 125, in load\n",
      "    source, filename, uptodate = self.get_source(environment, name)\n",
      "  File \"c:\\Users\\ishuk\\AppData\\Local\\Programs\\Python\\Python39\\lib\\site-packages\\flask\\templating.py\", line 59, in get_source\n",
      "    return self._get_source_fast(environment, template)\n",
      "  File \"c:\\Users\\ishuk\\AppData\\Local\\Programs\\Python\\Python39\\lib\\site-packages\\flask\\templating.py\", line 95, in _get_source_fast\n",
      "    raise TemplateNotFound(template)\n",
      "jinja2.exceptions.TemplateNotFound: index.html\n",
      "127.0.0.1 - - [12/Aug/2023 14:12:45] \"GET / HTTP/1.1\" 500 -\n",
      "127.0.0.1 - - [12/Aug/2023 14:12:45] \"GET /favicon.ico HTTP/1.1\" 404 -\n"
     ]
    }
   ],
   "source": [
    "\n",
    "import numpy as np\n",
    "from flask import Flask, request, jsonify, render_template   \n",
    "import cv2\n",
    "import skimage as ski\n",
    "\n",
    "app = Flask(__name__)\n",
    "\n",
    "\n",
    "\n",
    "@app.route('/') \n",
    "def home():\n",
    "      \n",
    "    return render_template(\"index.html\")\n",
    "  \n",
    "@app.route('/predict',methods=['GET'])\n",
    "def predict():\n",
    "    \n",
    "    \n",
    "\n",
    "    vid=cv2.VideoCapture(0)\n",
    "\n",
    "    while True:\n",
    "        ack ,img =vid.read()\n",
    "        if ack:\n",
    "            th,red_bw=cv2.threshold(cv2.subtract(\n",
    "                img[:,:,-1],cv2.cvtColor(img,cv2.COLOR_BGR2GRAY)\n",
    "            ),80,255,cv2.THRESH_BINARY)\n",
    "\n",
    "            strel=cv2.getStructuringElement(cv2.MORPH_ELLIPSE,(10,10))\n",
    "            red_bw=cv2.morphologyEx(red_bw,cv2.MORPH_CLOSE,strel,1)\n",
    "\n",
    "            red_bw=ski.morphology.remove_small_objects(red_bw.astype(bool) , 3000) .astype('uint8')*255\n",
    "\n",
    "            red_bw=ski.morphology.remove_small_holes(red_bw.astype(bool) , 3000) .astype('uint8')*255\n",
    "\n",
    "    \n",
    "            rps=ski.measure.regionprops(ski.measure.label(red_bw.astype('uint8')))\n",
    "\n",
    "            count=len(rps)\n",
    "\n",
    "            img_copy=img.copy()\n",
    "\n",
    "            cv2.putText(img_copy,str(count),(30,30),cv2.FONT_HERSHEY_SIMPLEX,5,(255,0,0),5)\n",
    "\n",
    "            for rp in rps:\n",
    "                y1,x1,y2,x2=rp.bbox\n",
    "\n",
    "                cv2.rectangle(img_copy,(x1,y1),(x2,y2),(0,0,255),5)\n",
    "\n",
    "\n",
    "            cv2.imshow('preview',img_copy)\n",
    "            key=cv2.waitKey(1)\n",
    "            if key==ord('x'):\n",
    "                break\n",
    "\n",
    "    cv2.destroyAllWindows();\n",
    "    cv2.waitKey(1)\n",
    "    vid.release()\n",
    "\n",
    "\n",
    "    \n",
    "        \n",
    "    return render_template('index.html', prediction_text='Regression Model  has predicted salary for given experinace is : ')#{}'.format(prediction))\n",
    "\n",
    "\n",
    "if __name__ == \"__main__\":\n",
    "    app.run()"
   ]
  },
  {
   "cell_type": "code",
   "execution_count": null,
   "metadata": {},
   "outputs": [],
   "source": [
    "[ WARN:1@54.205] global cap_msmf.cpp:1759 CvCapture_MSMF::grabFrame videoio(MSMF): can't grab frame. Error: -1072875772"
   ]
  }
 ],
 "metadata": {
  "kernelspec": {
   "display_name": "Python 3",
   "language": "python",
   "name": "python3"
  },
  "language_info": {
   "codemirror_mode": {
    "name": "ipython",
    "version": 3
   },
   "file_extension": ".py",
   "mimetype": "text/x-python",
   "name": "python",
   "nbconvert_exporter": "python",
   "pygments_lexer": "ipython3",
   "version": "3.9.7"
  },
  "orig_nbformat": 4
 },
 "nbformat": 4,
 "nbformat_minor": 2
}
